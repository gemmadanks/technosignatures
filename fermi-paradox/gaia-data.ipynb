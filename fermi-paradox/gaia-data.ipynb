{
 "cells": [
  {
   "cell_type": "markdown",
   "metadata": {},
   "source": [
    "# Gaia data\n",
    "\n",
    "The most accurate map of the Milky Way so far can be found in the [Gaia data release 3 archive](https://www.cosmos.esa.int/web/gaia/dr3). I will be using the Python package [astroquery](https://astroquery.readthedocs.io/en/latest/) to extract relevant data.\n",
    "\n"
   ]
  },
  {
   "cell_type": "code",
   "execution_count": null,
   "metadata": {},
   "outputs": [],
   "source": [
    "%load_ext autoreload\n",
    "%autoreload 2"
   ]
  },
  {
   "cell_type": "code",
   "execution_count": null,
   "metadata": {
    "scrolled": true
   },
   "outputs": [],
   "source": [
    "from astroquery.gaia import Gaia\n",
    "\n",
    "gaia_tables = Gaia.load_tables(only_names=True)\n",
    "for table in (gaia_tables):\n",
    "    print (table.get_qualified_name())"
   ]
  },
  {
   "cell_type": "code",
   "execution_count": null,
   "metadata": {},
   "outputs": [],
   "source": [
    "job = Gaia.launch_job_async(\"\"\"SELECT COUNT(*) FROM gaiadr3.gaia_source\n",
    "                               WHERE gaiadr3.gaia_source.classprob_dsc_combmod_star>0.95\"\"\",\n",
    "                            dump_to_file=False)\n",
    "\n",
    "print(job)"
   ]
  },
  {
   "cell_type": "code",
   "execution_count": null,
   "metadata": {},
   "outputs": [],
   "source": [
    "r = job.get_results()\n",
    "print (r)"
   ]
  }
 ],
 "metadata": {
  "kernelspec": {
   "display_name": "Python 3 (ipykernel)",
   "language": "python",
   "name": "python3"
  },
  "language_info": {
   "codemirror_mode": {
    "name": "ipython",
    "version": 3
   },
   "file_extension": ".py",
   "mimetype": "text/x-python",
   "name": "python",
   "nbconvert_exporter": "python",
   "pygments_lexer": "ipython3",
   "version": "3.10.8"
  }
 },
 "nbformat": 4,
 "nbformat_minor": 4
}
